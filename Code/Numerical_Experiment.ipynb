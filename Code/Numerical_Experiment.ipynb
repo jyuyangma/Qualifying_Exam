{
 "cells": [
  {
   "cell_type": "code",
   "execution_count": 1,
   "metadata": {},
   "outputs": [],
   "source": [
    "import numpy as np\n",
    "import gurobipy as gp\n",
    "from functions import *\n",
    "from data_store import *\n",
    "from Class_UAV import *"
   ]
  },
  {
   "cell_type": "code",
   "execution_count": 2,
   "metadata": {},
   "outputs": [],
   "source": [
    "# Defining parameters\n",
    "pi = 100 # Penalty for unmet demand\n",
    "T = 1 # Time horizon 1 hour  \n",
    "e = 4 # maximal number of open depots\n",
    "p = 10 # maximal number of open launch points\n",
    "Q_T = 2000 # capacity of the vehicle\n",
    "c_SD = 10 # cost for using a small drone\n",
    "c_LD = 20 # cost for using a large drone\n",
    "v_T = 45 # speed of the vehicle: 45 km/hr\n",
    "tau = 2 # setup time for small drone to deliver: 2 miniutes\n",
    "K_SD = 30 # maximal number of small drones\n",
    "K_LD = 5 # maximal number of large drones\n",
    "\n",
    "num_candidates_depots = 10\n",
    "num_candidates_launch_points = 25\n",
    "num_gathering_points = 40"
   ]
  },
  {
   "cell_type": "code",
   "execution_count": 3,
   "metadata": {},
   "outputs": [
    {
     "name": "stdout",
     "output_type": "stream",
     "text": [
      "Files already exist. The function will not run.\n",
      "Files already exist. The function will not run.\n",
      "Files already exist. The function will not run.\n",
      "Files already exist. The function will not run.\n",
      "Files already exist. The function will not run.\n",
      "Files already exist. The function will not run.\n",
      "Files already exist. The function will not run.\n",
      "Files already exist. The function will not run.\n",
      "Files already exist. The function will not run.\n",
      "Files already exist. The function will not run.\n",
      "Files already exist. The function will not run.\n",
      "Files already exist. The function will not run.\n",
      "Files already exist. The function will not run.\n",
      "Files already exist. The function will not run.\n",
      "Files already exist. The function will not run.\n",
      "Files already exist. The function will not run.\n",
      "Files already exist. The function will not run.\n",
      "Files already exist. The function will not run.\n",
      "Files already exist. The function will not run.\n",
      "Files already exist. The function will not run.\n",
      "Files already exist. The function will not run.\n",
      "Files already exist. The function will not run.\n",
      "Files already exist. The function will not run.\n",
      "Files already exist. The function will not run.\n",
      "Files already exist. The function will not run.\n",
      "Files already exist. The function will not run.\n",
      "Files already exist. The function will not run.\n",
      "Files already exist. The function will not run.\n",
      "Files already exist. The function will not run.\n",
      "Files already exist. The function will not run.\n",
      "Files already exist. The function will not run.\n",
      "Files already exist. The function will not run.\n",
      "Files already exist. The function will not run.\n",
      "Files already exist. The function will not run.\n",
      "Files already exist. The function will not run.\n",
      "Files already exist. The function will not run.\n"
     ]
    }
   ],
   "source": [
    "S = 12\n",
    "\n",
    "for s in range(S):\n",
    "    gp_demand_and_location, D_location, LP_location = generate_all_locations(num_GP=num_gathering_points , cand_D=num_candidates_depots , cand_LP=num_candidates_launch_points)\n",
    "    gp_demand = gp_demand_and_location[0]\n",
    "    gp_location = gp_demand_and_location[1]\n",
    "    save_to_csv(\"GP\", s + 1, gp_demand, gp_location)\n",
    "    save_to_csv(\"DP\", s + 1, None, D_location)\n",
    "    save_to_csv(\"LP\", s + 1, None, LP_location)\n",
    "    "
   ]
  },
  {
   "cell_type": "code",
   "execution_count": 4,
   "metadata": {},
   "outputs": [
    {
     "name": "stdout",
     "output_type": "stream",
     "text": [
      "Data arrays read complete\n",
      "Data arrays read complete\n",
      "Data arrays read complete\n"
     ]
    }
   ],
   "source": [
    "demand_list , GP_location_list = read_csv_files(\"GP\", S)\n",
    "DP_location_list = read_csv_files(\"DP\", S)\n",
    "LP_location_list = read_csv_files(\"LP\", S)\n"
   ]
  },
  {
   "cell_type": "code",
   "execution_count": 6,
   "metadata": {},
   "outputs": [],
   "source": [
    "smalldrones = SmallDrone(\"SD\")\n",
    "largedrones = LargeDrone(\"LD\")\n",
    "\n",
    "Q_SD = smalldrones.max_payload\n",
    "Q_LD = largedrones.max_payload"
   ]
  },
  {
   "cell_type": "markdown",
   "metadata": {},
   "source": [
    "#### SDA Part"
   ]
  },
  {
   "cell_type": "code",
   "execution_count": null,
   "metadata": {},
   "outputs": [],
   "source": [
    "# Initializations\n",
    "UB = np.inf\n",
    "LB = -np.inf\n",
    "tolerance = 1e-6\n",
    "\n",
    "R = []\n",
    "\n",
    "# Create a new model\n",
    "m = gp.Model(\"scenario_decomposition\")\n",
    "# Add first stage variables\n",
    "u = m.addVars(num_candidates_depots, vtype=gp.GRB.BINARY, name=\"depot\")\n",
    "v = m.addVars(num_candidates_launch_points, vtype=gp.GRB.BINARY, name=\"launch_point\")\n",
    "w = m.addVars(num_candidates_depots , num_candidates_launch_points, vtype=gp.GRB.BINARY, name=\"LP_to_DP\")\n",
    "# Add second stage variables\n",
    "g_SD = m.addVars(K_SD, vtype=gp.GRB.BINARY, name=\"small_drone_usage\")\n",
    "g_LD = m.addVars(K_LD, vtype=gp.GRB.BINARY, name=\"large_drone_usage\")\n",
    "x    = m.addVars(num_gathering_points, num_candidates_launch_points + num_candidates_launch_points, K_SD, vtype=gp.GRB.BINARY, name=\"small_drone_assignment\")\n",
    "y    = m.addVars(num_gathering_points, num_candidates_depots, K_LD, vtype=gp.GRB.BINARY, name=\"large_drone_assignment\")\n",
    "o    = m.addVars(num_gathering_points, vtype=gp.GRB.CONTINUOUS, name=\"unmet_demand\")\n",
    "\n",
    "while True:\n",
    "    # Solve the optimization problem for each scenario\n",
    "    for s in range(S):\n",
    "        q = demand_list[s] # withdraw current demand\n",
    "        GP_location = GP_location_list[s] # withdraw current gathering point locations\n",
    "        D_location = DP_location_list[s] # withdraw current depot locations\n",
    "        LP_location = LP_location_list[s] # withdraw current launch point locations\n",
    "\n",
    "        # Add objective function\n",
    "        m.setObjective( gp.quicksum(pi * o[i] for i in range(num_gathering_points)) + \n",
    "                        gp.quicksum(c_SD * g_SD[k] for k in range(K_SD)) + \n",
    "                        gp.quicksum(c_LD * g_LD[k] for k in range(K_LD)) ,\n",
    "                       gp.GRB.MINIMIZE)\n",
    "        # Add constraints\n",
    "        m.addConstr(gp.quicksum(u[d] for d in range(num_candidates_depots)) <= e)\n",
    "        m.addConstr(gp.quicksum(v[l] for l in range(num_candidates_launch_points)) <= p)\n",
    "        for l in range(num_candidates_launch_points):\n",
    "            m.addConstr(gp.quicksum(w[d,l] for d in range(num_candidates_depots)) == v[l])\n",
    "            m.addConstr(gp.quicksum( q[i] * x[i,l,k] for i in range(num_gathering_points) for k in range(K_SD)) <= Q_T * v[l] )\n",
    "\n",
    "        for k in range(K_SD):\n",
    "            m.addConstr(gp.quicksum(x[i,l,k] for i in range(num_gathering_points) for l in range(num_candidates_launch_points)) <= 1)\n",
    "\n",
    "        for i in range(num_gathering_points):\n",
    "            m.addConstr( q[i] \n",
    "                        -  Q_SD * gp.quicksum( x[i,l,k] for l in range(num_candidates_depots+num_candidates_launch_points) for k in range(K_SD)) \n",
    "                        -  Q_LD * gp.quicksum( y[i,d,k] for d in range(num_candidates_depots) for k in range(K_SD+K_LD))\n",
    "                        <= o[i])\n",
    "            for d in range(num_candidates_depots):\n",
    "                for k in range( K_SD+K_LD ):\n",
    "                    m.addConstr(y[i,d,k] <= u[d])\n",
    "            for l in range(num_candidates_launch_points):\n",
    "                for k in range(K_SD):\n",
    "                    m.addConstr(x[i,l,k] <= v[l])\n",
    "        # Constraints for Speed\n",
    "        # How? \n",
    "        # Also need to calculate the distance after the earthquake\n",
    "    # Check convergence\n",
    "    if UB - LB < tolerance:\n",
    "        break"
   ]
  }
 ],
 "metadata": {
  "kernelspec": {
   "display_name": "Python 3",
   "language": "python",
   "name": "python3"
  },
  "language_info": {
   "codemirror_mode": {
    "name": "ipython",
    "version": 3
   },
   "file_extension": ".py",
   "mimetype": "text/x-python",
   "name": "python",
   "nbconvert_exporter": "python",
   "pygments_lexer": "ipython3",
   "version": "3.11.9"
  }
 },
 "nbformat": 4,
 "nbformat_minor": 2
}
